{
 "cells": [
  {
   "cell_type": "code",
   "execution_count": null,
   "metadata": {
    "colab": {},
    "colab_type": "code",
    "id": "6gQC1-Nik5gi"
   },
   "outputs": [],
   "source": [
    "import keras"
   ]
  },
  {
   "cell_type": "code",
   "execution_count": null,
   "metadata": {
    "colab": {},
    "colab_type": "code",
    "id": "XHHvTujZlIbK"
   },
   "outputs": [],
   "source": [
    "from keras.models import Sequential"
   ]
  },
  {
   "cell_type": "code",
   "execution_count": null,
   "metadata": {
    "colab": {},
    "colab_type": "code",
    "id": "cj_TMtI3lTEp"
   },
   "outputs": [],
   "source": [
    "from keras.layers import Activation,Dense,Flatten,Conv2D"
   ]
  },
  {
   "cell_type": "code",
   "execution_count": null,
   "metadata": {
    "colab": {},
    "colab_type": "code",
    "id": "CXGz--WllcT5"
   },
   "outputs": [],
   "source": [
    "data=keras.datasets.mnist"
   ]
  },
  {
   "cell_type": "code",
   "execution_count": null,
   "metadata": {
    "colab": {},
    "colab_type": "code",
    "id": "Cgsfv15sloGt"
   },
   "outputs": [],
   "source": [
    "(train_img,train_label),(test_img,test_label)=data.load_data()"
   ]
  },
  {
   "cell_type": "code",
   "execution_count": null,
   "metadata": {
    "colab": {
     "base_uri": "https://localhost:8080/",
     "height": 35
    },
    "colab_type": "code",
    "executionInfo": {
     "elapsed": 1095,
     "status": "ok",
     "timestamp": 1599151868868,
     "user": {
      "displayName": "vibhav gupta",
      "photoUrl": "https://lh3.googleusercontent.com/a-/AOh14GiUnjgMDT1gFtoxQtA6tMOjwo_cgPlUg1MBzj2Z=s64",
      "userId": "08962201550105377551"
     },
     "user_tz": -330
    },
    "id": "PHCIfQGpl48_",
    "outputId": "51f5749b-2d19-4d4a-940d-43f36fb49daf"
   },
   "outputs": [
    {
     "data": {
      "text/plain": [
       "(60000, 28, 28)"
      ]
     },
     "execution_count": 55,
     "metadata": {
      "tags": []
     },
     "output_type": "execute_result"
    }
   ],
   "source": [
    "train_img.shape"
   ]
  },
  {
   "cell_type": "code",
   "execution_count": null,
   "metadata": {
    "colab": {
     "base_uri": "https://localhost:8080/",
     "height": 35
    },
    "colab_type": "code",
    "executionInfo": {
     "elapsed": 849,
     "status": "ok",
     "timestamp": 1599151869886,
     "user": {
      "displayName": "vibhav gupta",
      "photoUrl": "https://lh3.googleusercontent.com/a-/AOh14GiUnjgMDT1gFtoxQtA6tMOjwo_cgPlUg1MBzj2Z=s64",
      "userId": "08962201550105377551"
     },
     "user_tz": -330
    },
    "id": "HSEY8vjEmCo2",
    "outputId": "f3cabbf9-3dc5-4819-8af2-b525871df581"
   },
   "outputs": [
    {
     "data": {
      "text/plain": [
       "(28, 28)"
      ]
     },
     "execution_count": 56,
     "metadata": {
      "tags": []
     },
     "output_type": "execute_result"
    }
   ],
   "source": [
    "train_img[0].shape"
   ]
  },
  {
   "cell_type": "code",
   "execution_count": null,
   "metadata": {
    "colab": {},
    "colab_type": "code",
    "id": "FeUMU_EVrA8j"
   },
   "outputs": [],
   "source": [
    "train_img=train_img/255"
   ]
  },
  {
   "cell_type": "code",
   "execution_count": null,
   "metadata": {
    "colab": {},
    "colab_type": "code",
    "id": "JsbNy4VsrMa0"
   },
   "outputs": [],
   "source": [
    "test_img=test_img/255"
   ]
  },
  {
   "cell_type": "code",
   "execution_count": null,
   "metadata": {
    "colab": {},
    "colab_type": "code",
    "id": "K01A70Z2rRac"
   },
   "outputs": [],
   "source": [
    "train_img=train_img.reshape(len(train_img),28,28,1)\n",
    "test_img=test_img.reshape(len(test_img),28,28,1)"
   ]
  },
  {
   "cell_type": "code",
   "execution_count": null,
   "metadata": {
    "colab": {
     "base_uri": "https://localhost:8080/",
     "height": 35
    },
    "colab_type": "code",
    "executionInfo": {
     "elapsed": 742,
     "status": "ok",
     "timestamp": 1599151875191,
     "user": {
      "displayName": "vibhav gupta",
      "photoUrl": "https://lh3.googleusercontent.com/a-/AOh14GiUnjgMDT1gFtoxQtA6tMOjwo_cgPlUg1MBzj2Z=s64",
      "userId": "08962201550105377551"
     },
     "user_tz": -330
    },
    "id": "isWTA3XlrsFt",
    "outputId": "14eb83de-b05d-43fd-cb49-90df1b629cfa"
   },
   "outputs": [
    {
     "data": {
      "text/plain": [
       "(28, 28, 1)"
      ]
     },
     "execution_count": 60,
     "metadata": {
      "tags": []
     },
     "output_type": "execute_result"
    }
   ],
   "source": [
    "train_img[0].shape"
   ]
  },
  {
   "cell_type": "code",
   "execution_count": null,
   "metadata": {
    "colab": {},
    "colab_type": "code",
    "id": "h5wy6nkTr0Ye"
   },
   "outputs": [],
   "source": [
    "classi=Sequential()"
   ]
  },
  {
   "cell_type": "code",
   "execution_count": null,
   "metadata": {
    "colab": {},
    "colab_type": "code",
    "id": "5Jq0m_e5sGrh"
   },
   "outputs": [],
   "source": [
    "classi.add(Conv2D(filters=64,strides=(2,2),activation='relu',kernel_size=(3,3),input_shape=(28,28,1)))"
   ]
  },
  {
   "cell_type": "code",
   "execution_count": null,
   "metadata": {
    "colab": {},
    "colab_type": "code",
    "id": "8sFKmfCYtF-2"
   },
   "outputs": [],
   "source": [
    "\n",
    "classi.add(Conv2D(filters=128,strides=(2,2),activation='relu',kernel_size=(5,5)))"
   ]
  },
  {
   "cell_type": "code",
   "execution_count": null,
   "metadata": {
    "colab": {},
    "colab_type": "code",
    "id": "79SYJILktWS1"
   },
   "outputs": [],
   "source": [
    "classi.add(Flatten())\n"
   ]
  },
  {
   "cell_type": "code",
   "execution_count": null,
   "metadata": {
    "colab": {},
    "colab_type": "code",
    "id": "sKXqt7jctn_E"
   },
   "outputs": [],
   "source": [
    "classi.add(Dense(128,activation='relu'))\n",
    "classi.add(Dense(10,activation='softmax'))"
   ]
  },
  {
   "cell_type": "code",
   "execution_count": null,
   "metadata": {
    "colab": {},
    "colab_type": "code",
    "id": "T9c7eB0Iudx0"
   },
   "outputs": [],
   "source": [
    "classi.compile(optimizer=keras.optimizers.Adam(learning_rate=.001),loss='categorical_crossentropy',metrics=['accuracy'])"
   ]
  },
  {
   "cell_type": "code",
   "execution_count": null,
   "metadata": {
    "colab": {},
    "colab_type": "code",
    "id": "yLhFwBbd3oL3"
   },
   "outputs": [],
   "source": [
    "train_label = keras.utils.to_categorical(train_label, 10)\n",
    "test_label = keras.utils.to_categorical(test_label, 10)"
   ]
  },
  {
   "cell_type": "code",
   "execution_count": null,
   "metadata": {
    "colab": {
     "base_uri": "https://localhost:8080/",
     "height": 35
    },
    "colab_type": "code",
    "executionInfo": {
     "elapsed": 1127,
     "status": "ok",
     "timestamp": 1599151806505,
     "user": {
      "displayName": "vibhav gupta",
      "photoUrl": "https://lh3.googleusercontent.com/a-/AOh14GiUnjgMDT1gFtoxQtA6tMOjwo_cgPlUg1MBzj2Z=s64",
      "userId": "08962201550105377551"
     },
     "user_tz": -330
    },
    "id": "FYFR1WZc35fw",
    "outputId": "a6ce83cb-36b8-4db9-cc2a-0236cb97deb7"
   },
   "outputs": [
    {
     "data": {
      "text/plain": [
       "numpy.ndarray"
      ]
     },
     "execution_count": 48,
     "metadata": {
      "tags": []
     },
     "output_type": "execute_result"
    }
   ],
   "source": [
    "type(train_label[0])"
   ]
  },
  {
   "cell_type": "code",
   "execution_count": null,
   "metadata": {
    "colab": {
     "base_uri": "https://localhost:8080/",
     "height": 35
    },
    "colab_type": "code",
    "executionInfo": {
     "elapsed": 1312,
     "status": "ok",
     "timestamp": 1599151825890,
     "user": {
      "displayName": "vibhav gupta",
      "photoUrl": "https://lh3.googleusercontent.com/a-/AOh14GiUnjgMDT1gFtoxQtA6tMOjwo_cgPlUg1MBzj2Z=s64",
      "userId": "08962201550105377551"
     },
     "user_tz": -330
    },
    "id": "AzYVWbv54DyV",
    "outputId": "60fc1f1d-6cb3-4114-f2c7-bffe31cc448a"
   },
   "outputs": [
    {
     "data": {
      "text/plain": [
       "(60000, 10)"
      ]
     },
     "execution_count": 49,
     "metadata": {
      "tags": []
     },
     "output_type": "execute_result"
    }
   ],
   "source": [
    "train_label.shape"
   ]
  },
  {
   "cell_type": "code",
   "execution_count": null,
   "metadata": {
    "colab": {
     "base_uri": "https://localhost:8080/",
     "height": 401
    },
    "colab_type": "code",
    "executionInfo": {
     "elapsed": 71081,
     "status": "ok",
     "timestamp": 1599151964937,
     "user": {
      "displayName": "vibhav gupta",
      "photoUrl": "https://lh3.googleusercontent.com/a-/AOh14GiUnjgMDT1gFtoxQtA6tMOjwo_cgPlUg1MBzj2Z=s64",
      "userId": "08962201550105377551"
     },
     "user_tz": -330
    },
    "id": "K7hf-br1vIzp",
    "outputId": "afe5a549-32ea-4cbf-8896-9c3fa0cea1e0"
   },
   "outputs": [
    {
     "name": "stdout",
     "output_type": "stream",
     "text": [
      "Epoch 1/10\n",
      "1688/1688 [==============================] - 7s 4ms/step - loss: 0.1342 - accuracy: 0.9592 - val_loss: 0.0584 - val_accuracy: 0.9820\n",
      "Epoch 2/10\n",
      "1688/1688 [==============================] - 7s 4ms/step - loss: 0.0425 - accuracy: 0.9863 - val_loss: 0.0411 - val_accuracy: 0.9877\n",
      "Epoch 3/10\n",
      "1688/1688 [==============================] - 7s 4ms/step - loss: 0.0263 - accuracy: 0.9919 - val_loss: 0.0504 - val_accuracy: 0.9868\n",
      "Epoch 4/10\n",
      "1688/1688 [==============================] - 7s 4ms/step - loss: 0.0201 - accuracy: 0.9934 - val_loss: 0.0398 - val_accuracy: 0.9893\n",
      "Epoch 5/10\n",
      "1688/1688 [==============================] - 7s 4ms/step - loss: 0.0137 - accuracy: 0.9955 - val_loss: 0.0587 - val_accuracy: 0.9857\n",
      "Epoch 6/10\n",
      "1688/1688 [==============================] - 7s 4ms/step - loss: 0.0098 - accuracy: 0.9969 - val_loss: 0.0484 - val_accuracy: 0.9877\n",
      "Epoch 7/10\n",
      "1688/1688 [==============================] - 7s 4ms/step - loss: 0.0094 - accuracy: 0.9969 - val_loss: 0.0542 - val_accuracy: 0.9895\n",
      "Epoch 8/10\n",
      "1688/1688 [==============================] - 7s 4ms/step - loss: 0.0081 - accuracy: 0.9973 - val_loss: 0.0621 - val_accuracy: 0.9882\n",
      "Epoch 9/10\n",
      "1688/1688 [==============================] - 8s 5ms/step - loss: 0.0060 - accuracy: 0.9980 - val_loss: 0.0758 - val_accuracy: 0.9870\n",
      "Epoch 10/10\n",
      "1688/1688 [==============================] - 7s 4ms/step - loss: 0.0071 - accuracy: 0.9976 - val_loss: 0.0573 - val_accuracy: 0.9902\n"
     ]
    },
    {
     "data": {
      "text/plain": [
       "<tensorflow.python.keras.callbacks.History at 0x7f524af6f518>"
      ]
     },
     "execution_count": 68,
     "metadata": {
      "tags": []
     },
     "output_type": "execute_result"
    }
   ],
   "source": [
    "classi.fit(train_img,train_label,validation_split=.1,epochs=10)"
   ]
  },
  {
   "cell_type": "code",
   "execution_count": null,
   "metadata": {
    "colab": {
     "base_uri": "https://localhost:8080/",
     "height": 52
    },
    "colab_type": "code",
    "executionInfo": {
     "elapsed": 1974,
     "status": "ok",
     "timestamp": 1599152035473,
     "user": {
      "displayName": "vibhav gupta",
      "photoUrl": "https://lh3.googleusercontent.com/a-/AOh14GiUnjgMDT1gFtoxQtA6tMOjwo_cgPlUg1MBzj2Z=s64",
      "userId": "08962201550105377551"
     },
     "user_tz": -330
    },
    "id": "FvCyVfiX3y-z",
    "outputId": "6492acc2-26ed-4dfc-c769-dcc80cefbac6"
   },
   "outputs": [
    {
     "name": "stdout",
     "output_type": "stream",
     "text": [
      "313/313 - 1s - loss: 0.0492 - accuracy: 0.9897\n"
     ]
    },
    {
     "data": {
      "text/plain": [
       "[0.049208611249923706, 0.9897000193595886]"
      ]
     },
     "execution_count": 69,
     "metadata": {
      "tags": []
     },
     "output_type": "execute_result"
    }
   ],
   "source": [
    "classi.evaluate(test_img,test_label,verbose=2)"
   ]
  },
  {
   "cell_type": "code",
   "execution_count": null,
   "metadata": {
    "colab": {},
    "colab_type": "code",
    "id": "p-kyh2oU3Nwp"
   },
   "outputs": [],
   "source": []
  },
  {
   "cell_type": "code",
   "execution_count": null,
   "metadata": {
    "colab": {},
    "colab_type": "code",
    "id": "PCgFpFCmvzLL"
   },
   "outputs": [],
   "source": []
  },
  {
   "cell_type": "code",
   "execution_count": null,
   "metadata": {
    "colab": {},
    "colab_type": "code",
    "id": "yDf79Do41DyS"
   },
   "outputs": [],
   "source": []
  },
  {
   "cell_type": "code",
   "execution_count": null,
   "metadata": {
    "colab": {},
    "colab_type": "code",
    "id": "9AEAIeej0zvi"
   },
   "outputs": [],
   "source": []
  }
 ],
 "metadata": {
  "accelerator": "GPU",
  "colab": {
   "authorship_tag": "ABX9TyMB/YVfJYrsBYZMkk7HDErm",
   "collapsed_sections": [],
   "mount_file_id": "1J5ZmB5E8biHajTIM0EQ78AuOrEsOyhC3",
   "name": "MNIST.ipynb",
   "provenance": [],
   "toc_visible": true
  },
  "kernelspec": {
   "display_name": "Python 3",
   "language": "python",
   "name": "python3"
  },
  "language_info": {
   "codemirror_mode": {
    "name": "ipython",
    "version": 3
   },
   "file_extension": ".py",
   "mimetype": "text/x-python",
   "name": "python",
   "nbconvert_exporter": "python",
   "pygments_lexer": "ipython3",
   "version": "3.7.4"
  }
 },
 "nbformat": 4,
 "nbformat_minor": 1
}
